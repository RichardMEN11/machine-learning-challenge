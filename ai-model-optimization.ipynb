{
  "cells": [
    {
      "cell_type": "code",
      "execution_count": 8,
      "metadata": {},
      "outputs": [
        {
          "name": "stdout",
          "output_type": "stream",
          "text": [
            "uuid                                0\n",
            "Make                                0\n",
            "Model                               0\n",
            "Vehicle Class                       0\n",
            "Engine Size(L)                      0\n",
            "Cylinders                           0\n",
            "Transmission                        0\n",
            "Fuel Type                           0\n",
            "Fuel Consumption City (L/100 km)    0\n",
            "Fuel Consumption Hwy (L/100 km)     0\n",
            "Fuel Consumption Comb (L/100 km)    0\n",
            "Fuel Consumption Comb (mpg)         0\n",
            "CO2 Emissions(g/km)                 0\n",
            "dtype: int64\n"
          ]
        }
      ],
      "source": [
        "import pandas as pd\n",
        "import numpy as np\n",
        "import matplotlib.pyplot as plt\n",
        "import seaborn as sns\n",
        "from sklearn import linear_model\n",
        "from sklearn.model_selection import train_test_split\n",
        "from sklearn.linear_model import LinearRegression\n",
        "from sklearn.preprocessing import StandardScaler, MinMaxScaler, RobustScaler\n",
        "from sklearn.metrics import mean_absolute_error,mean_squared_error, accuracy_score\n",
        "\n",
        "# Read the dataset\n",
        "df_cars = pd.read_csv('./final_dataset.csv', sep=',', decimal='.')\n",
        "\n",
        "# How many colums are nan?\n",
        "num_cols = df_cars.isnull().sum()\n",
        "print(num_cols)\n",
        "\n",
        "# Drop the columns with nan values\n",
        "df_cars = df_cars.dropna(axis=0)\n"
      ]
    },
    {
      "cell_type": "code",
      "execution_count": 9,
      "metadata": {},
      "outputs": [
        {
          "ename": "NameError",
          "evalue": "name 'df_cars' is not defined",
          "output_type": "error",
          "traceback": [
            "\u001b[0;31m---------------------------------------------------------------------------\u001b[0m",
            "\u001b[0;31mNameError\u001b[0m                                 Traceback (most recent call last)",
            "\u001b[1;32m/Users/richardmenning/Dev/tou/machine-learning-challenge/ai-model-optimization.ipynb Cell 2\u001b[0m in \u001b[0;36m<cell line: 8>\u001b[0;34m()\u001b[0m\n\u001b[1;32m      <a href='vscode-notebook-cell:/Users/richardmenning/Dev/tou/machine-learning-challenge/ai-model-optimization.ipynb#W1sZmlsZQ%3D%3D?line=0'>1</a>\u001b[0m \u001b[39m# -----------------------------\u001b[39;00m\n\u001b[1;32m      <a href='vscode-notebook-cell:/Users/richardmenning/Dev/tou/machine-learning-challenge/ai-model-optimization.ipynb#W1sZmlsZQ%3D%3D?line=1'>2</a>\u001b[0m \u001b[39m# scale the dataset\u001b[39;00m\n\u001b[1;32m      <a href='vscode-notebook-cell:/Users/richardmenning/Dev/tou/machine-learning-challenge/ai-model-optimization.ipynb#W1sZmlsZQ%3D%3D?line=2'>3</a>\u001b[0m \u001b[39m# -----------------------------\u001b[39;00m\n\u001b[1;32m      <a href='vscode-notebook-cell:/Users/richardmenning/Dev/tou/machine-learning-challenge/ai-model-optimization.ipynb#W1sZmlsZQ%3D%3D?line=3'>4</a>\u001b[0m \u001b[39m#\u001b[39;00m\n\u001b[1;32m      <a href='vscode-notebook-cell:/Users/richardmenning/Dev/tou/machine-learning-challenge/ai-model-optimization.ipynb#W1sZmlsZQ%3D%3D?line=4'>5</a>\u001b[0m \u001b[39m# When your data has different values, and even different measurement units, it can be difficult to compare them. What is kilograms compared to meters? Or altitude compared to time?\u001b[39;00m\n\u001b[1;32m      <a href='vscode-notebook-cell:/Users/richardmenning/Dev/tou/machine-learning-challenge/ai-model-optimization.ipynb#W1sZmlsZQ%3D%3D?line=5'>6</a>\u001b[0m \u001b[39m# The answer to this problem is scaling. We can scale data into new values that are easier to compare.\u001b[39;00m\n\u001b[0;32m----> <a href='vscode-notebook-cell:/Users/richardmenning/Dev/tou/machine-learning-challenge/ai-model-optimization.ipynb#W1sZmlsZQ%3D%3D?line=7'>8</a>\u001b[0m data \u001b[39m=\u001b[39m df_cars[[\u001b[39m'\u001b[39m\u001b[39mFuel Consumption City (L/100 km)\u001b[39m\u001b[39m'\u001b[39m, \u001b[39m'\u001b[39m\u001b[39mCO2 Emissions(g/km)\u001b[39m\u001b[39m'\u001b[39m]]\n\u001b[1;32m      <a href='vscode-notebook-cell:/Users/richardmenning/Dev/tou/machine-learning-challenge/ai-model-optimization.ipynb#W1sZmlsZQ%3D%3D?line=8'>9</a>\u001b[0m fuel_consumption \u001b[39m=\u001b[39m \u001b[39m'\u001b[39m\u001b[39mFuel Consumption City (L/100 km)\u001b[39m\u001b[39m'\u001b[39m\n\u001b[1;32m     <a href='vscode-notebook-cell:/Users/richardmenning/Dev/tou/machine-learning-challenge/ai-model-optimization.ipynb#W1sZmlsZQ%3D%3D?line=9'>10</a>\u001b[0m co2_emissions \u001b[39m=\u001b[39m \u001b[39m'\u001b[39m\u001b[39mCO2 Emissions(g/km)\u001b[39m\u001b[39m'\u001b[39m\n",
            "\u001b[0;31mNameError\u001b[0m: name 'df_cars' is not defined"
          ]
        }
      ],
      "source": [
        "# -----------------------------\n",
        "# scale the dataset\n",
        "# -----------------------------\n",
        "#\n",
        "# When your data has different values, and even different measurement units, it can be difficult to compare them. What is kilograms compared to meters? Or altitude compared to time?\n",
        "# The answer to this problem is scaling. We can scale data into new values that are easier to compare.\n",
        "\n",
        "data = df_cars[['Fuel Consumption City (L/100 km)', 'CO2 Emissions(g/km)']]\n",
        "fuel_consumption = 'Fuel Consumption City (L/100 km)'\n",
        "co2_emissions = 'CO2 Emissions(g/km)'\n",
        "\n",
        "# Standard deviation\n",
        "# StandardScaler follows Standard Normal Distribution (SND). Therefore, it makes mean = 0 and scales the data to unit variance.\n",
        "standard_scale = StandardScaler()\n",
        "\n",
        "x_standard_scale = standard_scale.fit_transform(data)\n",
        "x_standard_scale = pd.DataFrame(x_standard_scale, columns = [fuel_consumption, co2_emissions])\n",
        "\n",
        "print(x_standard_scale)\n",
        "\n",
        "# Min Max Scaler\n",
        "# MinMaxScaler scales all the data features in the range [0, 1] or else in the range [-1, 1] if there are negative values in the dataset\n",
        "min_max_scale = MinMaxScaler()\n",
        "\n",
        "x_min_max_scale = min_max_scale.fit_transform(data)\n",
        "x_min_max_scale = pd.DataFrame(x_min_max_scale, columns = [fuel_consumption, co2_emissions])\n",
        "\n",
        "print(x_min_max_scale)\n",
        "\n",
        "# Robust Scaler\n",
        "# RobustScaler scales the data to median and quantiles. Therefore, the outliers are not affected by the scaling.\n",
        "robust_scale = RobustScaler()\n",
        "\n",
        "x_robust_scale = robust_scale.fit_transform(data)\n",
        "x_robust_scale = pd.DataFrame(x_robust_scale, columns = [fuel_consumption, co2_emissions])\n",
        "\n",
        "print(x_robust_scale)\n",
        "\n",
        "# -----------------------------\n",
        "# plot the dataset to show the scaling\n",
        "# -----------------------------\n",
        "\n",
        "fig, (ax1, ax2, ax3, ax4) = plt.subplots(ncols=4, figsize = (20, 5))\n",
        "ax1.set_title('Before Scaling')\n",
        "sns.kdeplot(df_cars[fuel_consumption], ax = ax1, color ='r')\n",
        "sns.kdeplot(df_cars[co2_emissions], ax = ax1, color ='b')\n",
        "\n",
        "ax2.set_title('After Robust Scaling')  \n",
        "sns.kdeplot(x_robust_scale[fuel_consumption], ax = ax2, color ='red')\n",
        "sns.kdeplot(x_robust_scale[co2_emissions], ax = ax2, color ='blue')\n",
        "ax3.set_title('After Standard Scaling')\n",
        "  \n",
        "sns.kdeplot(x_standard_scale[fuel_consumption], ax = ax3, color ='black')\n",
        "sns.kdeplot(x_standard_scale[co2_emissions], ax = ax3, color ='g')\n",
        "ax4.set_title('After Min-Max Scaling')\n",
        "  \n",
        "sns.kdeplot(x_min_max_scale[fuel_consumption], ax = ax4, color ='black')\n",
        "sns.kdeplot(x_min_max_scale[co2_emissions], ax = ax4, color ='g')\n",
        "plt.show()\n",
        "\n",
        "\n",
        "# --------------------------\n",
        "# Describing the plotted data\n",
        "# --------------------------\n",
        "\n",
        "# The plot shows a comparison of all three scaling methods. The axis show the density and the fuel consumption city. \n",
        "# The first plot shows the data before scaling. The second plot shows the data after Robust Scaling.\n",
        "# The third plot shows the data after Standard Scaling. The fourth plot shows the data after Min-Max Scaling.\n",
        "# All three plots show that the data is aligning better after they are scaled. Espacially the robot scaling shows that the data look now more similar."
      ]
    },
    {
      "cell_type": "code",
      "execution_count": 10,
      "metadata": {},
      "outputs": [
        {
          "data": {
            "image/png": "[encoded data removed]",
            "text/plain": [
              "<Figure size 640x480 with 1 Axes>"
            ]
          },
          "metadata": {},
          "output_type": "display_data"
        },
        {
          "name": "stdout",
          "output_type": "stream",
          "text": [
            "MAE: 0.17362526444631776\n",
            "MSE: 0.0713437047177382\n",
            "RMSE: 0.26710242364632\n"
          ]
        }
      ],
      "source": [
        "import pickle\n",
        "\n",
        "# -----------------------------\n",
        "# Hyperparameters\n",
        "# -----------------------------\n",
        "\n",
        "# Hyperparameters in Machine learning are those parameters that are explicitly defined by the user to control the learning process.\n",
        "# example: learning rate\n",
        "\n",
        "\n",
        "# -----------------------------\n",
        "# Linear regression\n",
        "# -----------------------------\n",
        "\n",
        "# Can the input data be changed to a scaled dataset for better performance?\n",
        "\n",
        "X = np.array(x_robust_scale[fuel_consumption]).reshape(-1, 1)\n",
        "y = np.array(x_robust_scale[co2_emissions]).reshape(-1, 1)\n",
        "\n",
        "X_train, X_test, y_train, y_test = train_test_split(X, y, test_size = 0.25)\n",
        "\n",
        "regr = LinearRegression()\n",
        "regr.fit(X_train, y_train)\n",
        "\n",
        "y_pred = regr.predict(X_test)\n",
        "\n",
        "pickle.dump(regr, open('regr-model.pkl', 'wb'))\n",
        "\n",
        "fig, ax = plt.subplots()\n",
        "ax.scatter(X_test, y_test, color ='b')\n",
        "ax.plot(X_test, y_pred, color ='k')\n",
        "ax.set_xlabel(fuel_consumption)\n",
        "ax.set_ylabel(co2_emissions)\n",
        "plt.show()\n",
        "\n",
        "# Metrics\n",
        "mae = mean_absolute_error(y_true=y_test,y_pred=y_pred)\n",
        "#squared True returns MSE value, False returns RMSE value.\n",
        "mse = mean_squared_error(y_true=y_test,y_pred=y_pred) #default=True\n",
        "rmse = mean_squared_error(y_true=y_test,y_pred=y_pred,squared=False)\n",
        "  \n",
        "print(\"MAE:\",mae)\n",
        "print(\"MSE:\",mse)\n",
        "print(\"RMSE:\",rmse)\n",
        "\n",
        "# -----------------------------\n",
        "# Describing the Linear Regression Plot\n",
        "# -----------------------------\n",
        "\n",
        "# The plot shows the linear regression of the scaled dataset. The blue dots are the test data and the black line is the predicted data.\n",
        "# The plots shows two long linear cluster and most of the errors come from the bottom data. Therefore a subset of the data would perform even better. \n",
        "\n",
        "\n",
        "\n"
      ]
    },
    {
      "cell_type": "code",
      "execution_count": 11,
      "metadata": {},
      "outputs": [
        {
          "name": "stdout",
          "output_type": "stream",
          "text": [
            "ACCURACY OF THE MODEL:  0.5333935018050542\n"
          ]
        },
        {
          "data": {
            "text/html": [
              "<div>\n",
              "<style scoped>\n",
              "    .dataframe tbody tr th:only-of-type {\n",
              "        vertical-align: middle;\n",
              "    }\n",
              "\n",
              "    .dataframe tbody tr th {\n",
              "        vertical-align: top;\n",
              "    }\n",
              "\n",
              "    .dataframe thead th {\n",
              "        text-align: right;\n",
              "    }\n",
              "</style>\n",
              "<table border=\"1\" class=\"dataframe\">\n",
              "  <thead>\n",
              "    <tr style=\"text-align: right;\">\n",
              "      <th></th>\n",
              "      <th>0</th>\n",
              "    </tr>\n",
              "  </thead>\n",
              "  <tbody>\n",
              "    <tr>\n",
              "      <th>Fuel Consumption Hwy (L/100 km)</th>\n",
              "      <td>0.254474</td>\n",
              "    </tr>\n",
              "    <tr>\n",
              "      <th>Fuel Consumption City (L/100 km)</th>\n",
              "      <td>0.238363</td>\n",
              "    </tr>\n",
              "    <tr>\n",
              "      <th>Fuel Consumption Comb (L/100 km)</th>\n",
              "      <td>0.211220</td>\n",
              "    </tr>\n",
              "    <tr>\n",
              "      <th>Engine Size(L)</th>\n",
              "      <td>0.189643</td>\n",
              "    </tr>\n",
              "    <tr>\n",
              "      <th>Fuel Consumption Comb (mpg)</th>\n",
              "      <td>0.068460</td>\n",
              "    </tr>\n",
              "    <tr>\n",
              "      <th>Cylinders</th>\n",
              "      <td>0.037841</td>\n",
              "    </tr>\n",
              "  </tbody>\n",
              "</table>\n",
              "</div>"
            ],
            "text/plain": [
              "                                         0\n",
              "Fuel Consumption Hwy (L/100 km)   0.254474\n",
              "Fuel Consumption City (L/100 km)  0.238363\n",
              "Fuel Consumption Comb (L/100 km)  0.211220\n",
              "Engine Size(L)                    0.189643\n",
              "Fuel Consumption Comb (mpg)       0.068460\n",
              "Cylinders                         0.037841"
            ]
          },
          "execution_count": 11,
          "metadata": {},
          "output_type": "execute_result"
        }
      ],
      "source": [
        "from sklearn.ensemble import RandomForestClassifier\n",
        "from sklearn import preprocessing\n",
        "from sklearn import utils\n",
        "\n",
        "# -----------------------------\n",
        "# Random forest\n",
        "# -----------------------------\n",
        "\n",
        "# Random forest is a supervised learning algorithm. It can be used both for classification and regression problems. However, it is mostly used for classification problems.\n",
        "\n",
        "X_train, X_test, y_train, y_test = train_test_split( df_cars[['Engine Size(L)', 'Cylinders', 'Fuel Consumption City (L/100 km)', 'Fuel Consumption Hwy (L/100 km)', 'Fuel Consumption Comb (L/100 km)', 'Fuel Consumption Comb (mpg)']], df_cars[co2_emissions], test_size = 0.30)\n",
        "\n",
        "clf = RandomForestClassifier(n_estimators=100)\n",
        "\n",
        "clf.fit(X_train, y_train)\n",
        "\n",
        "y_pred = clf.predict(X_test)\n",
        "\n",
        "print(\"ACCURACY OF THE MODEL: \", accuracy_score(y_test, y_pred))\n",
        "\n",
        "# explore what features the model ‘thinks’ are most important in determining the co2 emission\n",
        "pd.DataFrame(clf.feature_importances_, index=X_train.columns).sort_values(by=0, ascending=False)"
      ]
    },
    {
      "cell_type": "code",
      "execution_count": 12,
      "metadata": {},
      "outputs": [
        {
          "name": "stdout",
          "output_type": "stream",
          "text": [
            "Fitting 3 folds for each of 100 candidates, totalling 300 fits\n"
          ]
        },
        {
          "name": "stderr",
          "output_type": "stream",
          "text": [
            "/Users/richardmenning/opt/anaconda3/envs/myenv/lib/python3.9/site-packages/sklearn/model_selection/_split.py:680: UserWarning: The least populated class in y has only 1 members, which is less than n_splits=3.\n",
            "  warnings.warn(\n",
            "/Users/richardmenning/opt/anaconda3/envs/myenv/lib/python3.9/site-packages/joblib/externals/loky/process_executor.py:702: UserWarning: A worker stopped while some jobs were given to the executor. This can be caused by a too short worker timeout or by a memory leak.\n",
            "  warnings.warn(\n"
          ]
        }
      ],
      "source": [
        "from sklearn.model_selection import RandomizedSearchCV\n",
        "\n",
        "# Number of trees in random forest\n",
        "n_estimators = np.linspace(100, 3000, int((3000-100)/200) + 1, dtype=int)\n",
        "# Number of features to consider at every split\n",
        "max_features = ['auto', 'sqrt']\n",
        "# Maximum number of levels in tree\n",
        "max_depth = [1, 5, 10, 20, 50, 75, 100, 150, 200]\n",
        "# Minimum number of samples required to split a node\n",
        "# min_samples_split = [int(x) for x in np.linspace(start = 2, stop = 10, num = 9)]\n",
        "min_samples_split = [1, 2, 5, 10, 15, 20, 30]\n",
        "# Minimum number of samples required at each leaf node\n",
        "min_samples_leaf = [1, 2, 3, 4]\n",
        "# Method of selecting samples for training each tree\n",
        "bootstrap = [True, False]\n",
        "# Criterion\n",
        "criterion=['gini', 'entropy']\n",
        "random_grid = {'n_estimators': n_estimators,\n",
        "#                'max_features': max_features,\n",
        "               'max_depth': max_depth,\n",
        "               'min_samples_split': min_samples_split,\n",
        "               'min_samples_leaf': min_samples_leaf,\n",
        "               'bootstrap': bootstrap,\n",
        "               'criterion': criterion}\n",
        "\n",
        "\n",
        "rf_base = RandomForestClassifier()\n",
        "\n",
        "# Tuning hyperparameters could be done by hand or could be handled by a function which is called RandomizedSearchCV\n",
        "# RandomizedSearchCV is a function that will try all the possible combinations of the hyperparameters and return the best combination of hyperparameters.\n",
        "# n_iter is the number of combinations that will be tried.\n",
        "# cv is the number of folds that will be used for cross validation.\n",
        "# n_jobs is the number of cores that will be used for parallel processing. -1 means all cores will be used.\n",
        "\n",
        "rf_random = RandomizedSearchCV(estimator = rf_base, param_distributions = random_grid, n_iter = 100, cv = 3, verbose=1, random_state=42, n_jobs = -1)\n",
        "\n",
        "rf_random.fit(X_train, y_train)\n",
        "\n",
        "y_pred = rf_random.predict(X_test)\n",
        "\n",
        "print(\"ACCURACY OF THE MODEL: \", accuracy_score(y_test, y_pred))"
      ]
    },
    {
      "cell_type": "code",
      "execution_count": null,
      "metadata": {},
      "outputs": [
        {
          "name": "stdout",
          "output_type": "stream",
          "text": [
            "Accuracy: 0.847 (0.012)\n"
          ]
        }
      ],
      "source": [
        "# ---------------------------\n",
        "# 10K cross-validation\n",
        "# ---------------------------\n",
        "\n",
        "# Cross-validation is a technique for evaluating machine learning models by training several models on subsets of the available input data and evaluating them on the complementary subset of the data.\n",
        "\n",
        "from sklearn.model_selection import cross_val_score\n",
        "from sklearn.model_selection import KFold\n",
        "from numpy import mean\n",
        "from numpy import std\n",
        "\n",
        "cv = KFold(n_splits=10, random_state=1, shuffle=True)\n",
        "\n",
        "scores = cross_val_score(regr, X_train, y_train, cv=cv)\n",
        "\n",
        "print('Accuracy: %.3f (%.3f)' % (mean(scores), std(scores)))\n",
        "\n",
        "# Results\n",
        "# model has an estimated classification accuracy of 90% for linear regression\n",
        "# model has an estimated classification accuracy of 45% for random forest\n",
        "# Therefore it would be a better idea to choose linear regression"
      ]
    },
    {
      "cell_type": "code",
      "execution_count": null,
      "metadata": {},
      "outputs": [
        {
          "name": "stdout",
          "output_type": "stream",
          "text": [
            ">1 mean=0.8449 se=0.015\n",
            ">2 mean=0.8445 se=0.018\n",
            ">3 mean=0.8446 se=0.018\n",
            ">4 mean=0.8445 se=0.019\n",
            ">5 mean=0.8445 se=0.018\n",
            ">6 mean=0.8445 se=0.018\n",
            ">7 mean=0.8445 se=0.018\n",
            ">8 mean=0.8445 se=0.019\n",
            ">9 mean=0.8444 se=0.020\n",
            ">10 mean=0.8444 se=0.020\n",
            ">11 mean=0.8444 se=0.020\n",
            ">12 mean=0.8444 se=0.019\n",
            ">13 mean=0.8444 se=0.019\n",
            ">14 mean=0.8445 se=0.019\n",
            ">15 mean=0.8445 se=0.019\n"
          ]
        },
        {
          "data": {
            "image/png": "[encoded data removed]",
            "text/plain": [
              "<Figure size 640x480 with 1 Axes>"
            ]
          },
          "metadata": {},
          "output_type": "display_data"
        }
      ],
      "source": [
        "from sklearn.model_selection import RepeatedKFold\n",
        "# ---------------------------\n",
        "# Boxplot for 10K cross-validation\n",
        "# ---------------------------\n",
        "\n",
        "def evaluate_model(X, y, repeats): \n",
        "    cv = RepeatedKFold(n_splits=10, n_repeats=repeats, random_state=1)\n",
        "    scores = cross_val_score(regr, X, y, cv=cv, n_jobs=-1)\n",
        "    return scores\n",
        "\n",
        "repeats = range(1, 16)\n",
        "results = list()\n",
        "\n",
        "for r in repeats: \n",
        "    scores = evaluate_model(X_train, y_train, r)\n",
        "    results.append(scores)\n",
        "    print('>%d mean=%.4f se=%.3f' % (r, mean(scores), std(scores)))\n",
        "\n",
        "plt.boxplot(results, labels=[str(r) for r in repeats], showmeans=True)\n",
        "plt.title('linear regession')\n",
        "plt.show()\n",
        "\n",
        "# ---------------------------\n",
        "# Describing Boxplot for 10K cross-validation\n",
        "# ---------------------------\n",
        "\n",
        "# The boxplot shows the accuracy of the model for different number of repeats. The mean accuracy is 90% and the standard deviation is 0.003. The boxplot shows that the accuracy is stable for 10 repeats and above. Therefore, 10 repeats is a good number for the cross-validation.\n",
        "# The x-axis shows the repeats and the y-axis the accuracy. \n",
        "# Espacially after the 8 repeat the data shows no more big changes. "
      ]
    }
  ],
  "metadata": {
    "kernelspec": {
      "display_name": "Python 3",
      "language": "python",
      "name": "python3"
    },
    "language_info": {
      "codemirror_mode": {
        "name": "ipython",
        "version": 3
      },
      "file_extension": ".py",
      "mimetype": "text/x-python",
      "name": "python",
      "nbconvert_exporter": "python",
      "pygments_lexer": "ipython3",
      "version": "3.9.13"
    },
    "orig_nbformat": 4,
    "vscode": {
      "interpreter": {
        "hash": "7fa909bde6fa7a442dd1a6befecbbfcef9ed73c70fcde1d8047e573f954d38fd"
      }
    }
  },
  "nbformat": 4,
  "nbformat_minor": 2
}
